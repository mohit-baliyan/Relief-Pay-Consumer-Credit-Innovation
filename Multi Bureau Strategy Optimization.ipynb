{
 "cells": [
  {
   "cell_type": "markdown",
   "id": "886ed41f",
   "metadata": {},
   "source": [
    "#### Multi-bureau Strategy Alignment\n",
    "\n",
    "* Data Preparation\n",
    "* Feuture Engineering\n",
    "* Binning & Bucketing\n",
    "* WOE & IV Bucketing"
   ]
  }
 ],
 "metadata": {
  "kernelspec": {
   "display_name": "Python 3",
   "language": "python",
   "name": "python3"
  },
  "language_info": {
   "name": "python",
   "version": "3.12.0"
  }
 },
 "nbformat": 4,
 "nbformat_minor": 5
}
