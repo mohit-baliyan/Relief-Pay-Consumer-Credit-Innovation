{
 "cells": [
  {
   "cell_type": "markdown",
   "id": "bbbd5a2c",
   "metadata": {},
   "source": [
    "<h4 style=\"margin:0; font-size:16px\">scorecard & stability</h4>\n",
    "<ul style=\"margin-top:0; font-size:15px\">\n",
    "<li>population stability index (PSI)</li>\n",
    "<li>characteristic stability index (CSI)</li>\n",
    "</ul>\n",
    "\n",
    "<h4 style=\"margin:0; font-size:16px\">classification</h4>\n",
    "<ul style=\"margin-top:0; font-size:15px\">\n",
    "<li>confusion matrix (crosstab or swapset)</li>\n",
    "<li>accuracy (or error rate)</li>\n",
    "<li>precision and recall</li>\n",
    "<li>balanced accuracy and F1 score</li>\n",
    "<li>receiver operating characteristic (ROC) and area under curve (AUC)</li>\n",
    "<li>gini coefficient</li>\n",
    "<li>kolmogorov-smirnov statistic (KS)</li>\n",
    "</ul>\n",
    "\n",
    "<h4 style=\"margin:0; font-size:16px\">goodness-of-fit / model selection</h4>\n",
    "<ul style=\"margin-top:0; font-size:15px\">\n",
    "<li>r² and adjusted r² score</li>\n",
    "<li>log-likelihood</li>\n",
    "<li>akaike information criterion (AIC) and bayesian information criterion (BIC)</li>\n",
    "</ul>\n",
    "\n",
    "<h4 style=\"margin:0; font-size:16px\">regression error</h4>\n",
    "<ul style=\"margin-top:0; font-size:15px\">\n",
    "<li>residuals and mean absolute error (MAE)</li>\n",
    "<li>mean squared error (MSE) and root mean squared error (RMSE)</li>\n",
    "</ul>\n",
    "\n",
    "<h4 style=\"margin:0; font-size:16px\">clustering & segmentation</h4>\n",
    "<ul style=\"margin-top:0; font-size:15px\">\n",
    "<li>elbow method</li>\n",
    "<li>silhouette score</li>\n",
    "</ul>\n",
    "\n",
    "<h4 style=\"margin:0; font-size:16px\">model explainability</h4>\n",
    "<ul style=\"margin-top:0; font-size:15px\">\n",
    "<li>shap</li>\n",
    "<li>lime</li>\n",
    "</ul>\n"
   ]
  },
  {
   "cell_type": "code",
   "execution_count": 1,
   "id": "4871e401",
   "metadata": {},
   "outputs": [
    {
     "data": {
      "text/html": [
       "<div>\n",
       "<style scoped>\n",
       "    .dataframe tbody tr th:only-of-type {\n",
       "        vertical-align: middle;\n",
       "    }\n",
       "\n",
       "    .dataframe tbody tr th {\n",
       "        vertical-align: top;\n",
       "    }\n",
       "\n",
       "    .dataframe thead th {\n",
       "        text-align: right;\n",
       "    }\n",
       "</style>\n",
       "<table border=\"1\" class=\"dataframe\">\n",
       "  <thead>\n",
       "    <tr style=\"text-align: right;\">\n",
       "      <th></th>\n",
       "      <th>id</th>\n",
       "      <th>score_dev</th>\n",
       "      <th>score_prod</th>\n",
       "    </tr>\n",
       "  </thead>\n",
       "  <tbody>\n",
       "    <tr>\n",
       "      <th>0</th>\n",
       "      <td>1</td>\n",
       "      <td>480</td>\n",
       "      <td>520</td>\n",
       "    </tr>\n",
       "    <tr>\n",
       "      <th>1</th>\n",
       "      <td>2</td>\n",
       "      <td>510</td>\n",
       "      <td>505</td>\n",
       "    </tr>\n",
       "    <tr>\n",
       "      <th>2</th>\n",
       "      <td>3</td>\n",
       "      <td>620</td>\n",
       "      <td>640</td>\n",
       "    </tr>\n",
       "    <tr>\n",
       "      <th>3</th>\n",
       "      <td>4</td>\n",
       "      <td>710</td>\n",
       "      <td>690</td>\n",
       "    </tr>\n",
       "    <tr>\n",
       "      <th>4</th>\n",
       "      <td>5</td>\n",
       "      <td>550</td>\n",
       "      <td>560</td>\n",
       "    </tr>\n",
       "    <tr>\n",
       "      <th>5</th>\n",
       "      <td>6</td>\n",
       "      <td>720</td>\n",
       "      <td>730</td>\n",
       "    </tr>\n",
       "    <tr>\n",
       "      <th>6</th>\n",
       "      <td>7</td>\n",
       "      <td>400</td>\n",
       "      <td>450</td>\n",
       "    </tr>\n",
       "    <tr>\n",
       "      <th>7</th>\n",
       "      <td>8</td>\n",
       "      <td>670</td>\n",
       "      <td>600</td>\n",
       "    </tr>\n",
       "    <tr>\n",
       "      <th>8</th>\n",
       "      <td>9</td>\n",
       "      <td>580</td>\n",
       "      <td>590</td>\n",
       "    </tr>\n",
       "    <tr>\n",
       "      <th>9</th>\n",
       "      <td>10</td>\n",
       "      <td>800</td>\n",
       "      <td>770</td>\n",
       "    </tr>\n",
       "  </tbody>\n",
       "</table>\n",
       "</div>"
      ],
      "text/plain": [
       "   id  score_dev  score_prod\n",
       "0   1        480         520\n",
       "1   2        510         505\n",
       "2   3        620         640\n",
       "3   4        710         690\n",
       "4   5        550         560\n",
       "5   6        720         730\n",
       "6   7        400         450\n",
       "7   8        670         600\n",
       "8   9        580         590\n",
       "9  10        800         770"
      ]
     },
     "metadata": {},
     "output_type": "display_data"
    }
   ],
   "source": [
    "import numpy as np\n",
    "import pandas as pd\n",
    "df = pd.read_csv('scores.csv')\n",
    "display(df)"
   ]
  },
  {
   "cell_type": "code",
   "execution_count": 3,
   "id": "adc2cab7",
   "metadata": {},
   "outputs": [
    {
     "name": "stdout",
     "output_type": "stream",
     "text": [
      "[400. 504. 568. 640. 712. 800.]\n"
     ]
    }
   ],
   "source": [
    "# define 5 percentiles in expected (score_dev) population\n",
    "bins = np.percentile(df['score_dev'], np.linspace(0, 100, 5 + 1))\n",
    "print(bins)"
   ]
  },
  {
   "cell_type": "code",
   "execution_count": 68,
   "id": "467c7b84",
   "metadata": {},
   "outputs": [],
   "source": [
    "# pd.cut has intervals in (a, b] edges\n",
    "predicted = pd.cut(df['score_dev'], bins=bins, include_lowest=True)\n",
    "actual = pd.cut(df['score_prod'], bins=bins, include_lowest=True)"
   ]
  },
  {
   "cell_type": "code",
   "execution_count": 69,
   "id": "5633c779",
   "metadata": {},
   "outputs": [
    {
     "name": "stdout",
     "output_type": "stream",
     "text": [
      "score_dev\n",
      "(399.999, 504.0]    0.2\n",
      "(504.0, 568.0]      0.2\n",
      "(568.0, 640.0]      0.2\n",
      "(640.0, 712.0]      0.2\n",
      "(712.0, 800.0]      0.2\n",
      "Name: proportion, dtype: float64\n",
      "score_prod\n",
      "(399.999, 504.0]    0.1\n",
      "(504.0, 568.0]      0.3\n",
      "(568.0, 640.0]      0.3\n",
      "(640.0, 712.0]      0.1\n",
      "(712.0, 800.0]      0.2\n",
      "Name: proportion, dtype: float64\n"
     ]
    }
   ],
   "source": [
    "# value_counts return groups in descending order based on their count.\n",
    "predicted_prop = predicted.value_counts(normalize=True, sort=False)\n",
    "actual_prop = actual.value_counts(normalize=True, sort=False)\n",
    "print(predicted_prop)\n",
    "print(actual_prop)"
   ]
  },
  {
   "cell_type": "code",
   "execution_count": 70,
   "id": "6b74fa80",
   "metadata": {},
   "outputs": [
    {
     "name": "stdout",
     "output_type": "stream",
     "text": [
      "score_dev\n",
      "(399.999, 504.0]    0.2\n",
      "(504.0, 568.0]      0.2\n",
      "(568.0, 640.0]      0.2\n",
      "(640.0, 712.0]      0.2\n",
      "(712.0, 800.0]      0.2\n",
      "Name: proportion, dtype: float64\n",
      "score_prod\n",
      "(399.999, 504.0]    0.1\n",
      "(504.0, 568.0]      0.3\n",
      "(568.0, 640.0]      0.3\n",
      "(640.0, 712.0]      0.1\n",
      "(712.0, 800.0]      0.2\n",
      "Name: proportion, dtype: float64\n"
     ]
    }
   ],
   "source": [
    "# replace zero with small number to avoid divison by zero in PSI calculation\n",
    "predicted_prop = predicted_prop.replace(0, 1e-6)\n",
    "actual_prop = actual_prop.replace(0, 1e-6)\n",
    "print(predicted_prop)\n",
    "print(actual_prop)"
   ]
  },
  {
   "cell_type": "code",
   "execution_count": 76,
   "id": "93648fec",
   "metadata": {},
   "outputs": [
    {
     "data": {
      "text/html": [
       "<div>\n",
       "<style scoped>\n",
       "    .dataframe tbody tr th:only-of-type {\n",
       "        vertical-align: middle;\n",
       "    }\n",
       "\n",
       "    .dataframe tbody tr th {\n",
       "        vertical-align: top;\n",
       "    }\n",
       "\n",
       "    .dataframe thead th {\n",
       "        text-align: right;\n",
       "    }\n",
       "</style>\n",
       "<table border=\"1\" class=\"dataframe\">\n",
       "  <thead>\n",
       "    <tr style=\"text-align: right;\">\n",
       "      <th></th>\n",
       "      <th>score_prod</th>\n",
       "      <th>Actual Prop.</th>\n",
       "      <th>Predicted Prop.</th>\n",
       "    </tr>\n",
       "  </thead>\n",
       "  <tbody>\n",
       "    <tr>\n",
       "      <th>0</th>\n",
       "      <td>(399.999, 504.0]</td>\n",
       "      <td>0.1</td>\n",
       "      <td>0.2</td>\n",
       "    </tr>\n",
       "    <tr>\n",
       "      <th>1</th>\n",
       "      <td>(504.0, 568.0]</td>\n",
       "      <td>0.3</td>\n",
       "      <td>0.2</td>\n",
       "    </tr>\n",
       "    <tr>\n",
       "      <th>2</th>\n",
       "      <td>(568.0, 640.0]</td>\n",
       "      <td>0.3</td>\n",
       "      <td>0.2</td>\n",
       "    </tr>\n",
       "    <tr>\n",
       "      <th>3</th>\n",
       "      <td>(640.0, 712.0]</td>\n",
       "      <td>0.1</td>\n",
       "      <td>0.2</td>\n",
       "    </tr>\n",
       "    <tr>\n",
       "      <th>4</th>\n",
       "      <td>(712.0, 800.0]</td>\n",
       "      <td>0.2</td>\n",
       "      <td>0.2</td>\n",
       "    </tr>\n",
       "  </tbody>\n",
       "</table>\n",
       "</div>"
      ],
      "text/plain": [
       "         score_prod  Actual Prop.  Predicted Prop.\n",
       "0  (399.999, 504.0]           0.1              0.2\n",
       "1    (504.0, 568.0]           0.3              0.2\n",
       "2    (568.0, 640.0]           0.3              0.2\n",
       "3    (640.0, 712.0]           0.1              0.2\n",
       "4    (712.0, 800.0]           0.2              0.2"
      ]
     },
     "metadata": {},
     "output_type": "display_data"
    }
   ],
   "source": [
    "buckets = pd.DataFrame()\n",
    "buckets['Actual Prop.'] = actual_prop\n",
    "buckets['Predicted Prop.'] = predicted_prop\n",
    "buckets = buckets.reset_index(drop=False)\n",
    "display(buckets)"
   ]
  },
  {
   "cell_type": "code",
   "execution_count": 80,
   "id": "7aacdad2",
   "metadata": {},
   "outputs": [
    {
     "data": {
      "text/html": [
       "<div>\n",
       "<style scoped>\n",
       "    .dataframe tbody tr th:only-of-type {\n",
       "        vertical-align: middle;\n",
       "    }\n",
       "\n",
       "    .dataframe tbody tr th {\n",
       "        vertical-align: top;\n",
       "    }\n",
       "\n",
       "    .dataframe thead th {\n",
       "        text-align: right;\n",
       "    }\n",
       "</style>\n",
       "<table border=\"1\" class=\"dataframe\">\n",
       "  <thead>\n",
       "    <tr style=\"text-align: right;\">\n",
       "      <th></th>\n",
       "      <th>score_prod</th>\n",
       "      <th>Actual Prop.</th>\n",
       "      <th>Predicted Prop.</th>\n",
       "      <th>PSI</th>\n",
       "    </tr>\n",
       "  </thead>\n",
       "  <tbody>\n",
       "    <tr>\n",
       "      <th>0</th>\n",
       "      <td>(399.999, 504.0]</td>\n",
       "      <td>0.1</td>\n",
       "      <td>0.2</td>\n",
       "      <td>0.069315</td>\n",
       "    </tr>\n",
       "    <tr>\n",
       "      <th>1</th>\n",
       "      <td>(504.0, 568.0]</td>\n",
       "      <td>0.3</td>\n",
       "      <td>0.2</td>\n",
       "      <td>0.040547</td>\n",
       "    </tr>\n",
       "    <tr>\n",
       "      <th>2</th>\n",
       "      <td>(568.0, 640.0]</td>\n",
       "      <td>0.3</td>\n",
       "      <td>0.2</td>\n",
       "      <td>0.040547</td>\n",
       "    </tr>\n",
       "    <tr>\n",
       "      <th>3</th>\n",
       "      <td>(640.0, 712.0]</td>\n",
       "      <td>0.1</td>\n",
       "      <td>0.2</td>\n",
       "      <td>0.069315</td>\n",
       "    </tr>\n",
       "    <tr>\n",
       "      <th>4</th>\n",
       "      <td>(712.0, 800.0]</td>\n",
       "      <td>0.2</td>\n",
       "      <td>0.2</td>\n",
       "      <td>0.000000</td>\n",
       "    </tr>\n",
       "  </tbody>\n",
       "</table>\n",
       "</div>"
      ],
      "text/plain": [
       "         score_prod  Actual Prop.  Predicted Prop.       PSI\n",
       "0  (399.999, 504.0]           0.1              0.2  0.069315\n",
       "1    (504.0, 568.0]           0.3              0.2  0.040547\n",
       "2    (568.0, 640.0]           0.3              0.2  0.040547\n",
       "3    (640.0, 712.0]           0.1              0.2  0.069315\n",
       "4    (712.0, 800.0]           0.2              0.2  0.000000"
      ]
     },
     "metadata": {},
     "output_type": "display_data"
    },
    {
     "name": "stdout",
     "output_type": "stream",
     "text": [
      "0.21972245773362187\n"
     ]
    }
   ],
   "source": [
    "# non-vectorized solutions\n",
    "psi = []\n",
    "for i, j in zip(actual_prop, predicted_prop):\n",
    "    psi.append((i - j) * np.log(i/j))\n",
    "buckets['PSI'] = psi\n",
    "display(buckets)\n",
    "print(sum(psi))"
   ]
  },
  {
   "cell_type": "code",
   "execution_count": 81,
   "id": "c3d5ba84",
   "metadata": {},
   "outputs": [
    {
     "name": "stdout",
     "output_type": "stream",
     "text": [
      "0.21972245773362187\n"
     ]
    }
   ],
   "source": [
    "# vectorized solution\n",
    "psi = np.sum((actual_prop - predicted_prop) * np.log(actual_prop / predicted_prop))\n",
    "print(psi)"
   ]
  }
 ],
 "metadata": {
  "kernelspec": {
   "display_name": "Python 3",
   "language": "python",
   "name": "python3"
  },
  "language_info": {
   "codemirror_mode": {
    "name": "ipython",
    "version": 3
   },
   "file_extension": ".py",
   "mimetype": "text/x-python",
   "name": "python",
   "nbconvert_exporter": "python",
   "pygments_lexer": "ipython3",
   "version": "3.12.0"
  }
 },
 "nbformat": 4,
 "nbformat_minor": 5
}
