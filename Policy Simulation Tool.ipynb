{
 "cells": [
  {
   "cell_type": "code",
   "execution_count": 69,
   "id": "3cd17c52",
   "metadata": {},
   "outputs": [
    {
     "data": {
      "text/html": [
       "<div>\n",
       "<style scoped>\n",
       "    .dataframe tbody tr th:only-of-type {\n",
       "        vertical-align: middle;\n",
       "    }\n",
       "\n",
       "    .dataframe tbody tr th {\n",
       "        vertical-align: top;\n",
       "    }\n",
       "\n",
       "    .dataframe thead th {\n",
       "        text-align: right;\n",
       "    }\n",
       "</style>\n",
       "<table border=\"1\" class=\"dataframe\">\n",
       "  <thead>\n",
       "    <tr style=\"text-align: right;\">\n",
       "      <th></th>\n",
       "      <th>customer_id</th>\n",
       "      <th>age</th>\n",
       "      <th>employ_status</th>\n",
       "      <th>indebtedness_score</th>\n",
       "      <th>income</th>\n",
       "      <th>loan_amount</th>\n",
       "      <th>actual_decision</th>\n",
       "    </tr>\n",
       "  </thead>\n",
       "  <tbody>\n",
       "    <tr>\n",
       "      <th>0</th>\n",
       "      <td>CUST_001</td>\n",
       "      <td>55</td>\n",
       "      <td>part time</td>\n",
       "      <td>None</td>\n",
       "      <td>30000</td>\n",
       "      <td>1000</td>\n",
       "      <td>DECLINE</td>\n",
       "    </tr>\n",
       "    <tr>\n",
       "      <th>1</th>\n",
       "      <td>CUST_002</td>\n",
       "      <td>40</td>\n",
       "      <td>full time</td>\n",
       "      <td>65</td>\n",
       "      <td>40000</td>\n",
       "      <td>1000</td>\n",
       "      <td>DECLINE</td>\n",
       "    </tr>\n",
       "  </tbody>\n",
       "</table>\n",
       "</div>"
      ],
      "text/plain": [
       "  customer_id age employ_status indebtedness_score income  loan_amount  \\\n",
       "0    CUST_001  55     part time               None  30000         1000   \n",
       "1    CUST_002  40     full time                 65  40000         1000   \n",
       "\n",
       "  actual_decision  \n",
       "0         DECLINE  \n",
       "1         DECLINE  "
      ]
     },
     "metadata": {},
     "output_type": "display_data"
    }
   ],
   "source": [
    "import pandas as pd\n",
    "import numpy as np\n",
    "from tqdm.notebook import tqdm\n",
    "\n",
    "np.random.seed(42)  # For reproducibility\n",
    "\n",
    "customer_ids = [f'CUST_{i:03d}' for i in range(1, 1001)]\n",
    "ages = np.random.choice([25, 30, 35, 40, 45, 50, 55, None], size=1000)\n",
    "employ_statuses = np.random.choice(['unemployed', 'part time', 'full time', None], size=1000)\n",
    "indebtedness_scores = np.random.choice([20, 35, 50, 65, 80, 95, None], size=1000)\n",
    "incomes = np.random.choice([20000, 30000, 40000, 50000, 60000, 70000, None], size=1000)\n",
    "loan_amount = np.random.choice([500, 1000, 700], size=1000)\n",
    "actual_decision = np.random.choice(['ACCEPT', 'DECLINE'], size=1000)\n",
    "\n",
    "df = pd.DataFrame({\n",
    "    'customer_id': customer_ids,\n",
    "    'age': ages,\n",
    "    'employ_status': employ_statuses,\n",
    "    'indebtedness_score': indebtedness_scores,\n",
    "    'income': incomes,\n",
    "    'loan_amount': loan_amount,\n",
    "    'actual_decision': actual_decision\n",
    "})\n",
    "display(df.head(2))"
   ]
  },
  {
   "cell_type": "code",
   "execution_count": 70,
   "id": "638eb349",
   "metadata": {},
   "outputs": [
    {
     "data": {
      "text/html": [
       "<div>\n",
       "<style scoped>\n",
       "    .dataframe tbody tr th:only-of-type {\n",
       "        vertical-align: middle;\n",
       "    }\n",
       "\n",
       "    .dataframe tbody tr th {\n",
       "        vertical-align: top;\n",
       "    }\n",
       "\n",
       "    .dataframe thead th {\n",
       "        text-align: right;\n",
       "    }\n",
       "</style>\n",
       "<table border=\"1\" class=\"dataframe\">\n",
       "  <thead>\n",
       "    <tr style=\"text-align: right;\">\n",
       "      <th></th>\n",
       "      <th>customer_id</th>\n",
       "      <th>age</th>\n",
       "      <th>employ_status</th>\n",
       "      <th>indebtedness_score</th>\n",
       "      <th>income</th>\n",
       "      <th>loan_amount</th>\n",
       "      <th>actual_decision</th>\n",
       "      <th>AP01</th>\n",
       "      <th>AP02</th>\n",
       "    </tr>\n",
       "  </thead>\n",
       "  <tbody>\n",
       "    <tr>\n",
       "      <th>0</th>\n",
       "      <td>CUST_001</td>\n",
       "      <td>55</td>\n",
       "      <td>part time</td>\n",
       "      <td>None</td>\n",
       "      <td>30000</td>\n",
       "      <td>1000</td>\n",
       "      <td>DECLINE</td>\n",
       "      <td>0</td>\n",
       "      <td>0</td>\n",
       "    </tr>\n",
       "    <tr>\n",
       "      <th>1</th>\n",
       "      <td>CUST_002</td>\n",
       "      <td>40</td>\n",
       "      <td>full time</td>\n",
       "      <td>65</td>\n",
       "      <td>40000</td>\n",
       "      <td>1000</td>\n",
       "      <td>DECLINE</td>\n",
       "      <td>0</td>\n",
       "      <td>0</td>\n",
       "    </tr>\n",
       "  </tbody>\n",
       "</table>\n",
       "</div>"
      ],
      "text/plain": [
       "  customer_id age employ_status indebtedness_score income  loan_amount  \\\n",
       "0    CUST_001  55     part time               None  30000         1000   \n",
       "1    CUST_002  40     full time                 65  40000         1000   \n",
       "\n",
       "  actual_decision  AP01  AP02  \n",
       "0         DECLINE     0     0  \n",
       "1         DECLINE     0     0  "
      ]
     },
     "metadata": {},
     "output_type": "display_data"
    }
   ],
   "source": [
    "# initialize declines\n",
    "decline_codes = ['AP01', 'AP02']\n",
    "for code in decline_codes:\n",
    "    df[code] = 0\n",
    "display(df.head(2))"
   ]
  },
  {
   "cell_type": "markdown",
   "id": "1fbae786",
   "metadata": {},
   "source": [
    "#### Policy Defined Rules"
   ]
  },
  {
   "cell_type": "code",
   "execution_count": 71,
   "id": "4553fd5d",
   "metadata": {},
   "outputs": [],
   "source": [
    "# 1 for decline and 0 for accept\n",
    "def ap01(row, col = 'age'):\n",
    "    if pd.notna(row[col]):\n",
    "        if (row[col] < 21) | (row[col] > 45):\n",
    "            return 1\n",
    "    return 0\n",
    "\n",
    "def ap02(row, col = 'employ_status'):\n",
    "    if pd.notna(row[col]):\n",
    "        if row[col] in ['unemployed', 'part time']:\n",
    "            return 1\n",
    "    return 0"
   ]
  },
  {
   "cell_type": "markdown",
   "id": "521c1ce4",
   "metadata": {},
   "source": [
    "#### Applying Policies on Customers Bureau Data"
   ]
  },
  {
   "cell_type": "code",
   "execution_count": 72,
   "id": "88d1c208",
   "metadata": {},
   "outputs": [
    {
     "data": {
      "application/vnd.jupyter.widget-view+json": {
       "model_id": "d163009ca9af4d02bd31e59784644691",
       "version_major": 2,
       "version_minor": 0
      },
      "text/plain": [
       "  0%|          | 0/1000 [00:00<?, ?it/s]"
      ]
     },
     "metadata": {},
     "output_type": "display_data"
    }
   ],
   "source": [
    "for i, row in tqdm(df.iterrows(), total=len(df)):\n",
    "    df.at[i, 'AP01'] = ap01(row)\n",
    "    df.at[i, 'AP02'] = ap02(row)"
   ]
  },
  {
   "cell_type": "code",
   "execution_count": 73,
   "id": "550f0fce",
   "metadata": {},
   "outputs": [],
   "source": [
    "# 1 for decline and 0 for accept\n",
    "df['simulated_decision'] = (df[decline_codes] == 1).any(axis=1).astype(int)"
   ]
  },
  {
   "cell_type": "markdown",
   "id": "866e2852",
   "metadata": {},
   "source": [
    "#### Metrics"
   ]
  },
  {
   "cell_type": "code",
   "execution_count": 79,
   "id": "c9a900c1",
   "metadata": {},
   "outputs": [
    {
     "data": {
      "text/html": [
       "<div>\n",
       "<style scoped>\n",
       "    .dataframe tbody tr th:only-of-type {\n",
       "        vertical-align: middle;\n",
       "    }\n",
       "\n",
       "    .dataframe tbody tr th {\n",
       "        vertical-align: top;\n",
       "    }\n",
       "\n",
       "    .dataframe thead th {\n",
       "        text-align: right;\n",
       "    }\n",
       "</style>\n",
       "<table border=\"1\" class=\"dataframe\">\n",
       "  <thead>\n",
       "    <tr style=\"text-align: right;\">\n",
       "      <th>simulated_decision</th>\n",
       "      <th>0</th>\n",
       "      <th>1</th>\n",
       "    </tr>\n",
       "    <tr>\n",
       "      <th>actual_decision</th>\n",
       "      <th></th>\n",
       "      <th></th>\n",
       "    </tr>\n",
       "  </thead>\n",
       "  <tbody>\n",
       "    <tr>\n",
       "      <th>ACCEPT</th>\n",
       "      <td>209</td>\n",
       "      <td>323</td>\n",
       "    </tr>\n",
       "    <tr>\n",
       "      <th>DECLINE</th>\n",
       "      <td>165</td>\n",
       "      <td>303</td>\n",
       "    </tr>\n",
       "  </tbody>\n",
       "</table>\n",
       "</div>"
      ],
      "text/plain": [
       "simulated_decision    0    1\n",
       "actual_decision             \n",
       "ACCEPT              209  323\n",
       "DECLINE             165  303"
      ]
     },
     "execution_count": 79,
     "metadata": {},
     "output_type": "execute_result"
    }
   ],
   "source": [
    "# match rate\n",
    "pd.crosstab(df['actual_decision'], df['simulated_decision'])"
   ]
  }
 ],
 "metadata": {
  "kernelspec": {
   "display_name": "Python 3",
   "language": "python",
   "name": "python3"
  },
  "language_info": {
   "codemirror_mode": {
    "name": "ipython",
    "version": 3
   },
   "file_extension": ".py",
   "mimetype": "text/x-python",
   "name": "python",
   "nbconvert_exporter": "python",
   "pygments_lexer": "ipython3",
   "version": "3.12.0"
  }
 },
 "nbformat": 4,
 "nbformat_minor": 5
}
